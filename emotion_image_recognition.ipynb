{
  "nbformat": 4,
  "nbformat_minor": 0,
  "metadata": {
    "colab": {
      "name": "emotion-image-recognition.ipynb",
      "provenance": [],
      "toc_visible": true,
      "authorship_tag": "ABX9TyNZ0qWyqepFd2wbp96KSA2r",
      "include_colab_link": true
    },
    "kernelspec": {
      "name": "python3",
      "display_name": "Python 3"
    },
    "accelerator": "GPU"
  },
  "cells": [
    {
      "cell_type": "markdown",
      "metadata": {
        "id": "view-in-github",
        "colab_type": "text"
      },
      "source": [
        "<a href=\"https://colab.research.google.com/github/JoseRMatos/image_emotion_recognition/blob/master/emotion_image_recognition.ipynb\" target=\"_parent\"><img src=\"https://colab.research.google.com/assets/colab-badge.svg\" alt=\"Open In Colab\"/></a>"
      ]
    },
    {
      "cell_type": "markdown",
      "metadata": {
        "id": "25edNJrPEnHQ",
        "colab_type": "text"
      },
      "source": [
        "# Emotion Recognition - Convolutional Neural Network"
      ]
    },
    {
      "cell_type": "markdown",
      "metadata": {
        "id": "mVuNi5_ZjMKX",
        "colab_type": "text"
      },
      "source": [
        "input: 48x48 pixel gray values (between 0 and 255)\n",
        "\n",
        "target: emotion category (beween 0 and 6: anger=0, disgust=1, fear=2, happy=3, sad=4, surprise=5, neutral=6)\n",
        "\n",
        "auxiliary information (in separate file) which can be used during training, but not as input for predicting emotions at test time: identity (-1: unknown, positive integers = ID, not all contiguous integer values). The file has one entry per training example."
      ]
    },
    {
      "cell_type": "markdown",
      "metadata": {
        "id": "dlWRzy4UEl4j",
        "colab_type": "text"
      },
      "source": [
        "## Conect with Google Drive"
      ]
    },
    {
      "cell_type": "code",
      "metadata": {
        "id": "xnn4teRsYWus",
        "colab_type": "code",
        "outputId": "3213d5be-7e7f-41c1-871d-bc4013c9b060",
        "colab": {
          "base_uri": "https://localhost:8080/",
          "height": 54
        }
      },
      "source": [
        "from google.colab import drive\n",
        "drive.mount('/content/gdrive')"
      ],
      "execution_count": 0,
      "outputs": [
        {
          "output_type": "stream",
          "text": [
            "Drive already mounted at /content/gdrive; to attempt to forcibly remount, call drive.mount(\"/content/gdrive\", force_remount=True).\n"
          ],
          "name": "stdout"
        }
      ]
    },
    {
      "cell_type": "markdown",
      "metadata": {
        "id": "B4CLBOAGFBgO",
        "colab_type": "text"
      },
      "source": [
        "## **Import Libraries and analysis of the Data Set**"
      ]
    },
    {
      "cell_type": "markdown",
      "metadata": {
        "id": "036miaOyF5XQ",
        "colab_type": "text"
      },
      "source": [
        "### Libraries\n",
        "\n",
        "\n"
      ]
    },
    {
      "cell_type": "code",
      "metadata": {
        "id": "GfOuDIlHjxW3",
        "colab_type": "code",
        "outputId": "763fcb0d-f789-4393-a69a-260e61857696",
        "colab": {
          "base_uri": "https://localhost:8080/",
          "height": 95
        }
      },
      "source": [
        "%matplotlib inline\n",
        "import matplotlib.pyplot as plt\n",
        "\n",
        "import numpy as np\n",
        "from keras.utils import to_categorical\n",
        "from sklearn.model_selection import train_test_split\n",
        "import keras\n",
        "from keras.models import Sequential\n",
        "from keras.layers import Dense, Dropout, Flatten, Conv2D, MaxPooling2D\n",
        "from sklearn.metrics import accuracy_score\n",
        "from pathlib import Path"
      ],
      "execution_count": 0,
      "outputs": [
        {
          "output_type": "stream",
          "text": [
            "Using TensorFlow backend.\n"
          ],
          "name": "stderr"
        },
        {
          "output_type": "display_data",
          "data": {
            "text/html": [
              "<p style=\"color: red;\">\n",
              "The default version of TensorFlow in Colab will soon switch to TensorFlow 2.x.<br>\n",
              "We recommend you <a href=\"https://www.tensorflow.org/guide/migrate\" target=\"_blank\">upgrade</a> now \n",
              "or ensure your notebook will continue to use TensorFlow 1.x via the <code>%tensorflow_version 1.x</code> magic:\n",
              "<a href=\"https://colab.research.google.com/notebooks/tensorflow_version.ipynb\" target=\"_blank\">more info</a>.</p>\n"
            ],
            "text/plain": [
              "<IPython.core.display.HTML object>"
            ]
          },
          "metadata": {
            "tags": []
          }
        }
      ]
    },
    {
      "cell_type": "markdown",
      "metadata": {
        "id": "8PQNvO6rMdib",
        "colab_type": "text"
      },
      "source": [
        "### Connect to google drive and Import Data-set"
      ]
    },
    {
      "cell_type": "code",
      "metadata": {
        "id": "zZsp56gsXGWy",
        "colab_type": "code",
        "colab": {}
      },
      "source": [
        "dataset_path = \"/content/gdrive/My Drive/Colab Notebooks/final_project/data/fer2013.csv\" \n",
        "import pandas as pd\n",
        "faces = pd.read_csv(dataset_path)\n"
      ],
      "execution_count": 0,
      "outputs": []
    },
    {
      "cell_type": "markdown",
      "metadata": {
        "id": "vENmtbkVMmz4",
        "colab_type": "text"
      },
      "source": [
        "Explore Data"
      ]
    },
    {
      "cell_type": "code",
      "metadata": {
        "id": "tJxirmhUiMbY",
        "colab_type": "code",
        "outputId": "2fa7ac61-70d1-48ab-9af5-77103d72291f",
        "colab": {
          "base_uri": "https://localhost:8080/",
          "height": 201
        }
      },
      "source": [
        "faces.head()"
      ],
      "execution_count": 0,
      "outputs": [
        {
          "output_type": "execute_result",
          "data": {
            "text/html": [
              "<div>\n",
              "<style scoped>\n",
              "    .dataframe tbody tr th:only-of-type {\n",
              "        vertical-align: middle;\n",
              "    }\n",
              "\n",
              "    .dataframe tbody tr th {\n",
              "        vertical-align: top;\n",
              "    }\n",
              "\n",
              "    .dataframe thead th {\n",
              "        text-align: right;\n",
              "    }\n",
              "</style>\n",
              "<table border=\"1\" class=\"dataframe\">\n",
              "  <thead>\n",
              "    <tr style=\"text-align: right;\">\n",
              "      <th></th>\n",
              "      <th>emotion</th>\n",
              "      <th>pixels</th>\n",
              "      <th>Usage</th>\n",
              "    </tr>\n",
              "  </thead>\n",
              "  <tbody>\n",
              "    <tr>\n",
              "      <th>0</th>\n",
              "      <td>0</td>\n",
              "      <td>70 80 82 72 58 58 60 63 54 58 60 48 89 115 121...</td>\n",
              "      <td>Training</td>\n",
              "    </tr>\n",
              "    <tr>\n",
              "      <th>1</th>\n",
              "      <td>0</td>\n",
              "      <td>151 150 147 155 148 133 111 140 170 174 182 15...</td>\n",
              "      <td>Training</td>\n",
              "    </tr>\n",
              "    <tr>\n",
              "      <th>2</th>\n",
              "      <td>2</td>\n",
              "      <td>231 212 156 164 174 138 161 173 182 200 106 38...</td>\n",
              "      <td>Training</td>\n",
              "    </tr>\n",
              "    <tr>\n",
              "      <th>3</th>\n",
              "      <td>4</td>\n",
              "      <td>24 32 36 30 32 23 19 20 30 41 21 22 32 34 21 1...</td>\n",
              "      <td>Training</td>\n",
              "    </tr>\n",
              "    <tr>\n",
              "      <th>4</th>\n",
              "      <td>6</td>\n",
              "      <td>4 0 0 0 0 0 0 0 0 0 0 0 3 15 23 28 48 50 58 84...</td>\n",
              "      <td>Training</td>\n",
              "    </tr>\n",
              "  </tbody>\n",
              "</table>\n",
              "</div>"
            ],
            "text/plain": [
              "   emotion                                             pixels     Usage\n",
              "0        0  70 80 82 72 58 58 60 63 54 58 60 48 89 115 121...  Training\n",
              "1        0  151 150 147 155 148 133 111 140 170 174 182 15...  Training\n",
              "2        2  231 212 156 164 174 138 161 173 182 200 106 38...  Training\n",
              "3        4  24 32 36 30 32 23 19 20 30 41 21 22 32 34 21 1...  Training\n",
              "4        6  4 0 0 0 0 0 0 0 0 0 0 0 3 15 23 28 48 50 58 84...  Training"
            ]
          },
          "metadata": {
            "tags": []
          },
          "execution_count": 3
        }
      ]
    },
    {
      "cell_type": "code",
      "metadata": {
        "id": "jdkksDJ23I26",
        "colab_type": "code",
        "outputId": "7d521890-f657-409f-86f5-ed2b14c94912",
        "colab": {
          "base_uri": "https://localhost:8080/",
          "height": 34
        }
      },
      "source": [
        "faces.shape"
      ],
      "execution_count": 0,
      "outputs": [
        {
          "output_type": "execute_result",
          "data": {
            "text/plain": [
              "(35887, 3)"
            ]
          },
          "metadata": {
            "tags": []
          },
          "execution_count": 4
        }
      ]
    },
    {
      "cell_type": "code",
      "metadata": {
        "id": "DVmFXMATFrqI",
        "colab_type": "code",
        "outputId": "91f3be08-031b-4636-8095-8aebdc1d3a0d",
        "colab": {
          "base_uri": "https://localhost:8080/",
          "height": 34
        }
      },
      "source": [
        "len(faces['pixels'][0].split())/(48*48)"
      ],
      "execution_count": 0,
      "outputs": [
        {
          "output_type": "execute_result",
          "data": {
            "text/plain": [
              "1.0"
            ]
          },
          "metadata": {
            "tags": []
          },
          "execution_count": 6
        }
      ]
    },
    {
      "cell_type": "code",
      "metadata": {
        "id": "qM6-TqTA-wji",
        "colab_type": "code",
        "outputId": "ed6da855-0c7b-4ac2-b683-bbd693cc7da1",
        "colab": {
          "base_uri": "https://localhost:8080/",
          "height": 34
        }
      },
      "source": [
        "x = 1\n",
        "for i in range(35887):\n",
        "  x = len(faces['pixels'][i].split())/(48*48)\n",
        "  if x != 1:\n",
        "    break    # break here\n",
        "    print('Picture in row' + str(i) + 'have a differeante shape')\n",
        "\n",
        "if x == 1:\n",
        "  print('All the picture are 48x48 pixels')\n"
      ],
      "execution_count": 0,
      "outputs": [
        {
          "output_type": "stream",
          "text": [
            "All the picture are 48x48 pixels\n"
          ],
          "name": "stdout"
        }
      ]
    },
    {
      "cell_type": "code",
      "metadata": {
        "id": "LNmaQIpIxflo",
        "colab_type": "code",
        "outputId": "6a7da239-0019-441e-cdf5-42bd70326e8e",
        "colab": {
          "base_uri": "https://localhost:8080/",
          "height": 216
        }
      },
      "source": [
        "for column in faces.columns:\n",
        "  if column != 'pixels':\n",
        "    print('Column: ' + column, faces[column].value_counts())"
      ],
      "execution_count": 0,
      "outputs": [
        {
          "output_type": "stream",
          "text": [
            "Column: emotion 3    8989\n",
            "6    6198\n",
            "4    6077\n",
            "2    5121\n",
            "0    4953\n",
            "5    4002\n",
            "1     547\n",
            "Name: emotion, dtype: int64\n",
            "Column: Usage Training       28709\n",
            "PrivateTest     3589\n",
            "PublicTest      3589\n",
            "Name: Usage, dtype: int64\n"
          ],
          "name": "stdout"
        }
      ]
    },
    {
      "cell_type": "markdown",
      "metadata": {
        "id": "DBwCHSKxM41E",
        "colab_type": "text"
      },
      "source": [
        "### Split and reshape data for the training model"
      ]
    },
    {
      "cell_type": "code",
      "metadata": {
        "id": "bdk91RhtvTkm",
        "colab_type": "code",
        "colab": {}
      },
      "source": [
        "def load_data(dataset_path):\n",
        "  \n",
        "  #classes = ['Angry', 'Disgust', 'Fear', 'Happy', 'Sad', 'Surprsie', 'Neutral']  #We will be dealing with seven different types of emotions.\n",
        "\n",
        "  data = []\n",
        "  test_data = []\n",
        "  test_labels = []\n",
        "  labels =[]\n",
        "\n",
        "  with open(dataset_path, 'r') as file:\n",
        "      for line_no, line in enumerate(file.readlines()):\n",
        "          if 0 < line_no <= 35887:\n",
        "            curr_class, line, set_type = line.split(',')\n",
        "            image_data = np.asarray([int(x) for x in line.split()]).reshape(48, 48)#Creating a list out of the string then converting it into a 2-Dimensional numpy array.\n",
        "            image_data =image_data.astype(np.uint8)/255.0\n",
        "            \n",
        "            if (set_type.strip() == 'PrivateTest'):\n",
        "              \n",
        "              test_data.append(image_data)\n",
        "              test_labels.append(curr_class)\n",
        "            else:\n",
        "              data.append(image_data)\n",
        "              labels.append(curr_class)\n",
        "      \n",
        "      test_data = np.expand_dims(test_data, -1)\n",
        "      test_labels = to_categorical(test_labels, num_classes = 7)\n",
        "      data = np.expand_dims(data, -1)   \n",
        "      labels = to_categorical(labels, num_classes = 7)\n",
        "    \n",
        "      return np.array(data), np.array(labels), np.array(test_data), np.array(test_labels)"
      ],
      "execution_count": 0,
      "outputs": []
    },
    {
      "cell_type": "code",
      "metadata": {
        "id": "fSBf88FDzYzK",
        "colab_type": "code",
        "outputId": "619d0c83-e814-46fd-ffc7-ace1071f5b4d",
        "colab": {
          "base_uri": "https://localhost:8080/",
          "height": 51
        }
      },
      "source": [
        "train_data, train_labels, test_data, test_labels = load_data(dataset_path)\n",
        "#train_data, test_data, train_labels, test_labels = train_test_split(data, labels, test_size = test_size,random_state = seed)\n",
        "\n",
        "print(\"Number of images in Training set:\", len(train_data))\n",
        "print(\"Number of images in Test set:\", len(test_data))"
      ],
      "execution_count": 0,
      "outputs": [
        {
          "output_type": "stream",
          "text": [
            "Number of images in Training set: 32298\n",
            "Number of images in Test set: 3589\n"
          ],
          "name": "stdout"
        }
      ]
    },
    {
      "cell_type": "markdown",
      "metadata": {
        "id": "bUbbO4ftNQgf",
        "colab_type": "text"
      },
      "source": [
        "Setting Layers and Training Model"
      ]
    },
    {
      "cell_type": "code",
      "metadata": {
        "id": "wDogLzpXvDQ1",
        "colab_type": "code",
        "outputId": "6cf64db1-43f5-48fb-8766-3624826d8968",
        "colab": {
          "base_uri": "https://localhost:8080/",
          "height": 1000
        }
      },
      "source": [
        "model = Sequential()\n",
        "\n",
        "model.add(Conv2D(64, (3, 3), padding='same', input_shape=(48, 48, 1), activation=\"relu\"))\n",
        "model.add(Conv2D(64, (3, 3), activation=\"relu\"))\n",
        "model.add(MaxPooling2D(pool_size=(2, 2)))\n",
        "model.add(Dropout(0.25))\n",
        "\n",
        "model.add(Conv2D(64, (3, 3), padding='same', activation=\"relu\"))\n",
        "model.add(Conv2D(64, (3, 3), activation=\"relu\"))\n",
        "model.add(MaxPooling2D(pool_size=(2, 2)))\n",
        "model.add(Dropout(0.25))\n",
        "\n",
        "model.add(Flatten())\n",
        "model.add(Dense(512, activation=\"relu\"))\n",
        "model.add(Dropout(0.5))\n",
        "model.add(Dense(7, activation=\"softmax\"))\n",
        "\n",
        "# Compile the model\n",
        "model.compile(\n",
        "    loss='categorical_crossentropy',\n",
        "    optimizer=\"adam\",\n",
        "    metrics=['accuracy']\n",
        ")\n",
        "\n",
        "# Train the model\n",
        "\n",
        "history = model.fit(\n",
        "    train_data,\n",
        "    train_labels,\n",
        "    batch_size=32,\n",
        "    epochs=30,\n",
        "    validation_data=(test_data, test_labels),\n",
        "    shuffle=True\n",
        ")"
      ],
      "execution_count": 0,
      "outputs": [
        {
          "output_type": "stream",
          "text": [
            "WARNING:tensorflow:From /usr/local/lib/python3.6/dist-packages/keras/backend/tensorflow_backend.py:66: The name tf.get_default_graph is deprecated. Please use tf.compat.v1.get_default_graph instead.\n",
            "\n",
            "WARNING:tensorflow:From /usr/local/lib/python3.6/dist-packages/keras/backend/tensorflow_backend.py:541: The name tf.placeholder is deprecated. Please use tf.compat.v1.placeholder instead.\n",
            "\n",
            "WARNING:tensorflow:From /usr/local/lib/python3.6/dist-packages/keras/backend/tensorflow_backend.py:4432: The name tf.random_uniform is deprecated. Please use tf.random.uniform instead.\n",
            "\n",
            "WARNING:tensorflow:From /usr/local/lib/python3.6/dist-packages/keras/backend/tensorflow_backend.py:4267: The name tf.nn.max_pool is deprecated. Please use tf.nn.max_pool2d instead.\n",
            "\n",
            "WARNING:tensorflow:From /usr/local/lib/python3.6/dist-packages/keras/backend/tensorflow_backend.py:148: The name tf.placeholder_with_default is deprecated. Please use tf.compat.v1.placeholder_with_default instead.\n",
            "\n",
            "WARNING:tensorflow:From /usr/local/lib/python3.6/dist-packages/keras/backend/tensorflow_backend.py:3733: calling dropout (from tensorflow.python.ops.nn_ops) with keep_prob is deprecated and will be removed in a future version.\n",
            "Instructions for updating:\n",
            "Please use `rate` instead of `keep_prob`. Rate should be set to `rate = 1 - keep_prob`.\n",
            "WARNING:tensorflow:From /usr/local/lib/python3.6/dist-packages/keras/optimizers.py:793: The name tf.train.Optimizer is deprecated. Please use tf.compat.v1.train.Optimizer instead.\n",
            "\n",
            "WARNING:tensorflow:From /usr/local/lib/python3.6/dist-packages/keras/backend/tensorflow_backend.py:3576: The name tf.log is deprecated. Please use tf.math.log instead.\n",
            "\n",
            "WARNING:tensorflow:From /usr/local/lib/python3.6/dist-packages/tensorflow_core/python/ops/math_grad.py:1424: where (from tensorflow.python.ops.array_ops) is deprecated and will be removed in a future version.\n",
            "Instructions for updating:\n",
            "Use tf.where in 2.0, which has the same broadcast rule as np.where\n",
            "WARNING:tensorflow:From /usr/local/lib/python3.6/dist-packages/keras/backend/tensorflow_backend.py:1033: The name tf.assign_add is deprecated. Please use tf.compat.v1.assign_add instead.\n",
            "\n",
            "WARNING:tensorflow:From /usr/local/lib/python3.6/dist-packages/keras/backend/tensorflow_backend.py:1020: The name tf.assign is deprecated. Please use tf.compat.v1.assign instead.\n",
            "\n",
            "WARNING:tensorflow:From /usr/local/lib/python3.6/dist-packages/keras/backend/tensorflow_backend.py:3005: The name tf.Session is deprecated. Please use tf.compat.v1.Session instead.\n",
            "\n",
            "Train on 32298 samples, validate on 3589 samples\n",
            "Epoch 1/30\n",
            "WARNING:tensorflow:From /usr/local/lib/python3.6/dist-packages/keras/backend/tensorflow_backend.py:190: The name tf.get_default_session is deprecated. Please use tf.compat.v1.get_default_session instead.\n",
            "\n",
            "WARNING:tensorflow:From /usr/local/lib/python3.6/dist-packages/keras/backend/tensorflow_backend.py:197: The name tf.ConfigProto is deprecated. Please use tf.compat.v1.ConfigProto instead.\n",
            "\n",
            "WARNING:tensorflow:From /usr/local/lib/python3.6/dist-packages/keras/backend/tensorflow_backend.py:207: The name tf.global_variables is deprecated. Please use tf.compat.v1.global_variables instead.\n",
            "\n",
            "WARNING:tensorflow:From /usr/local/lib/python3.6/dist-packages/keras/backend/tensorflow_backend.py:216: The name tf.is_variable_initialized is deprecated. Please use tf.compat.v1.is_variable_initialized instead.\n",
            "\n",
            "WARNING:tensorflow:From /usr/local/lib/python3.6/dist-packages/keras/backend/tensorflow_backend.py:223: The name tf.variables_initializer is deprecated. Please use tf.compat.v1.variables_initializer instead.\n",
            "\n",
            "32298/32298 [==============================] - 22s 695us/step - loss: 1.6882 - acc: 0.3258 - val_loss: 1.4843 - val_acc: 0.4322\n",
            "Epoch 2/30\n",
            "32298/32298 [==============================] - 20s 618us/step - loss: 1.4373 - acc: 0.4458 - val_loss: 1.3100 - val_acc: 0.5054\n",
            "Epoch 3/30\n",
            "32298/32298 [==============================] - 20s 615us/step - loss: 1.3137 - acc: 0.4954 - val_loss: 1.2503 - val_acc: 0.5216\n",
            "Epoch 4/30\n",
            "32298/32298 [==============================] - 20s 619us/step - loss: 1.2338 - acc: 0.5308 - val_loss: 1.1900 - val_acc: 0.5456\n",
            "Epoch 5/30\n",
            "32298/32298 [==============================] - 20s 618us/step - loss: 1.1700 - acc: 0.5570 - val_loss: 1.1752 - val_acc: 0.5522\n",
            "Epoch 6/30\n",
            "32298/32298 [==============================] - 20s 616us/step - loss: 1.1169 - acc: 0.5786 - val_loss: 1.1389 - val_acc: 0.5676\n",
            "Epoch 7/30\n",
            "32298/32298 [==============================] - 20s 615us/step - loss: 1.0625 - acc: 0.6015 - val_loss: 1.1374 - val_acc: 0.5759\n",
            "Epoch 8/30\n",
            "32298/32298 [==============================] - 20s 619us/step - loss: 1.0208 - acc: 0.6155 - val_loss: 1.1248 - val_acc: 0.5801\n",
            "Epoch 9/30\n",
            "32298/32298 [==============================] - 20s 617us/step - loss: 0.9731 - acc: 0.6348 - val_loss: 1.1250 - val_acc: 0.5818\n",
            "Epoch 10/30\n",
            "32298/32298 [==============================] - 20s 616us/step - loss: 0.9283 - acc: 0.6514 - val_loss: 1.1326 - val_acc: 0.5804\n",
            "Epoch 11/30\n",
            "32298/32298 [==============================] - 20s 615us/step - loss: 0.8977 - acc: 0.6613 - val_loss: 1.1198 - val_acc: 0.5848\n",
            "Epoch 12/30\n",
            "32298/32298 [==============================] - 20s 617us/step - loss: 0.8539 - acc: 0.6794 - val_loss: 1.1291 - val_acc: 0.5857\n",
            "Epoch 13/30\n",
            "32298/32298 [==============================] - 20s 617us/step - loss: 0.8131 - acc: 0.6945 - val_loss: 1.1330 - val_acc: 0.5885\n",
            "Epoch 14/30\n",
            "32298/32298 [==============================] - 20s 614us/step - loss: 0.7873 - acc: 0.7065 - val_loss: 1.1450 - val_acc: 0.5885\n",
            "Epoch 15/30\n",
            "32298/32298 [==============================] - 20s 612us/step - loss: 0.7529 - acc: 0.7170 - val_loss: 1.1719 - val_acc: 0.5871\n",
            "Epoch 16/30\n",
            "32298/32298 [==============================] - 20s 613us/step - loss: 0.7353 - acc: 0.7281 - val_loss: 1.1659 - val_acc: 0.5885\n",
            "Epoch 17/30\n",
            "32298/32298 [==============================] - 20s 611us/step - loss: 0.7030 - acc: 0.7394 - val_loss: 1.1590 - val_acc: 0.5918\n",
            "Epoch 18/30\n",
            "32298/32298 [==============================] - 20s 610us/step - loss: 0.6800 - acc: 0.7468 - val_loss: 1.1926 - val_acc: 0.5968\n",
            "Epoch 19/30\n",
            "32298/32298 [==============================] - 20s 613us/step - loss: 0.6634 - acc: 0.7552 - val_loss: 1.1529 - val_acc: 0.6035\n",
            "Epoch 20/30\n",
            "32298/32298 [==============================] - 20s 614us/step - loss: 0.6383 - acc: 0.7655 - val_loss: 1.1881 - val_acc: 0.5982\n",
            "Epoch 21/30\n",
            "32298/32298 [==============================] - 20s 612us/step - loss: 0.6266 - acc: 0.7679 - val_loss: 1.2284 - val_acc: 0.5915\n",
            "Epoch 22/30\n",
            "32298/32298 [==============================] - 20s 611us/step - loss: 0.6135 - acc: 0.7742 - val_loss: 1.2091 - val_acc: 0.5857\n",
            "Epoch 23/30\n",
            "32298/32298 [==============================] - 20s 613us/step - loss: 0.5903 - acc: 0.7849 - val_loss: 1.2456 - val_acc: 0.5913\n",
            "Epoch 24/30\n",
            "32298/32298 [==============================] - 20s 618us/step - loss: 0.5827 - acc: 0.7871 - val_loss: 1.2452 - val_acc: 0.5974\n",
            "Epoch 25/30\n",
            "32298/32298 [==============================] - 20s 614us/step - loss: 0.5647 - acc: 0.7906 - val_loss: 1.2593 - val_acc: 0.6038\n",
            "Epoch 26/30\n",
            "32298/32298 [==============================] - 20s 610us/step - loss: 0.5528 - acc: 0.7957 - val_loss: 1.2333 - val_acc: 0.5918\n",
            "Epoch 27/30\n",
            "32298/32298 [==============================] - 20s 614us/step - loss: 0.5487 - acc: 0.7990 - val_loss: 1.2408 - val_acc: 0.6027\n",
            "Epoch 28/30\n",
            "32298/32298 [==============================] - 20s 614us/step - loss: 0.5341 - acc: 0.8014 - val_loss: 1.2891 - val_acc: 0.5960\n",
            "Epoch 29/30\n",
            "32298/32298 [==============================] - 20s 612us/step - loss: 0.5301 - acc: 0.8057 - val_loss: 1.3161 - val_acc: 0.5935\n",
            "Epoch 30/30\n",
            "32298/32298 [==============================] - 20s 613us/step - loss: 0.5207 - acc: 0.8113 - val_loss: 1.2747 - val_acc: 0.5943\n"
          ],
          "name": "stdout"
        }
      ]
    },
    {
      "cell_type": "markdown",
      "metadata": {
        "id": "p9T8aeaBNdTM",
        "colab_type": "text"
      },
      "source": [
        "Saving neural network structure and weights"
      ]
    },
    {
      "cell_type": "code",
      "metadata": {
        "id": "W0lMNMPH05N_",
        "colab_type": "code",
        "colab": {}
      },
      "source": [
        "# Save neural network structure\n",
        "model_structure = model.to_json()\n",
        "f = Path(\"/content/gdrive/My Drive/Colab Notebooks/final_project/model_structure2.json\")\n",
        "f.write_text(model_structure)\n",
        "\n",
        "# Save neural network's trained weights\n",
        "model.save_weights(\"/content/gdrive/My Drive/Colab Notebooks/final_project/model_weights2.h5\")\n"
      ],
      "execution_count": 0,
      "outputs": []
    },
    {
      "cell_type": "markdown",
      "metadata": {
        "id": "BKvUWoyTNuio",
        "colab_type": "text"
      },
      "source": [
        "### Graph analysis"
      ]
    },
    {
      "cell_type": "code",
      "metadata": {
        "id": "pCTN91nb-DsK",
        "colab_type": "code",
        "outputId": "281c70ac-2851-4fc6-fdd9-6c4a82df0a55",
        "colab": {
          "base_uri": "https://localhost:8080/",
          "height": 295
        }
      },
      "source": [
        "plt.plot(history.history['acc'])\n",
        "plt.plot(history.history['val_acc'])\n",
        "plt.title('Model accuracy')\n",
        "plt.ylabel('Accuracy')\n",
        "plt.xlabel('Epoch')\n",
        "plt.legend(['Train', 'Test'], loc='upper left')\n",
        "plt.show()"
      ],
      "execution_count": 0,
      "outputs": [
        {
          "output_type": "display_data",
          "data": {
            "image/png": "[encoded data removed]",
            "text/plain": [
              "<Figure size 432x288 with 1 Axes>"
            ]
          },
          "metadata": {
            "tags": []
          }
        }
      ]
    },
    {
      "cell_type": "code",
      "metadata": {
        "id": "gCBZmFzc-cId",
        "colab_type": "code",
        "outputId": "65ab6677-4bdb-4ae7-fa28-a5e12ee9dae8",
        "colab": {
          "base_uri": "https://localhost:8080/",
          "height": 295
        }
      },
      "source": [
        "plt.plot(history.history['loss']) \n",
        "plt.plot(history.history['val_loss']) \n",
        "plt.title('Model loss') \n",
        "plt.ylabel('Loss') \n",
        "plt.xlabel('Epoch') \n",
        "plt.legend(['Train', 'Test'], loc='upper left') \n",
        "plt.show()"
      ],
      "execution_count": 0,
      "outputs": [
        {
          "output_type": "display_data",
          "data": {
            "image/png": "[encoded data removed]",
            "text/plain": [
              "<Figure size 432x288 with 1 Axes>"
            ]
          },
          "metadata": {
            "tags": []
          }
        }
      ]
    }
  ]
}